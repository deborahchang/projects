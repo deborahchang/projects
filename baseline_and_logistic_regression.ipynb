{
  "nbformat": 4,
  "nbformat_minor": 0,
  "metadata": {
    "colab": {
      "provenance": [],
      "include_colab_link": true
    },
    "kernelspec": {
      "name": "python3",
      "display_name": "Python 3"
    },
    "language_info": {
      "name": "python"
    }
  },
  "cells": [
    {
      "cell_type": "markdown",
      "metadata": {
        "id": "view-in-github",
        "colab_type": "text"
      },
      "source": [
        "<a href=\"https://colab.research.google.com/github/deborahchang/projects/blob/Campaign-Financing-on-Election-Outcomes/baseline_and_logistic_regression.ipynb\" target=\"_parent\"><img src=\"https://colab.research.google.com/assets/colab-badge.svg\" alt=\"Open In Colab\"/></a>"
      ]
    },
    {
      "cell_type": "code",
      "source": [
        "import pandas as pd\n",
        "from google.colab import drive\n",
        "from sklearn.model_selection import train_test_split\n",
        "from sklearn.dummy import DummyClassifier\n",
        "from sklearn.linear_model import LogisticRegression\n",
        "from sklearn.metrics import accuracy_score, classification_report, confusion_matrix\n",
        "\n",
        "drive.mount('/content/drive')\n",
        "\n",
        "dem_candidates_path = '/content/drive/MyDrive/144Project/dem_candidates.csv'\n",
        "rep_candidates_path = '/content/drive/MyDrive/144Project/rep_candidates.csv'\n",
        "lobbyist_bundle_path = '/content/drive/MyDrive/144Project/lobbyist_bundle.csv'\n",
        "\n",
        "dem_candidates = pd.read_csv(dem_candidates_path)\n",
        "rep_candidates = pd.read_csv(rep_candidates_path, encoding='latin-1')\n",
        "lobbyist_bundle = pd.read_csv(lobbyist_bundle_path)\n",
        "\n",
        "lobbyist_bundle['Total_Contribution'] = lobbyist_bundle.filter(like='Contribution').sum(axis=1)\n",
        "\n",
        "merged_dem = pd.merge(dem_candidates, lobbyist_bundle[['Committee_Election_State', 'Total_Contribution']], left_on='State', right_on='Committee_Election_State', how='left')\n",
        "merged_rep = pd.merge(rep_candidates, lobbyist_bundle[['Committee_Election_State', 'Total_Contribution']], left_on='State', right_on='Committee_Election_State', how='left')\n",
        "\n",
        "\n",
        "merged_dem.drop('Committee_Election_State', axis=1, inplace=True)\n",
        "merged_rep.drop('Committee_Election_State', axis=1, inplace=True)\n",
        "\n",
        "combined_candidates = pd.concat([merged_dem, merged_rep], axis=0)\n",
        "\n",
        "\n",
        "selected_features = ['Partisan Lean', 'Party Support?', 'Total_Contribution', 'Won Primary']\n",
        "final_data = combined_candidates[selected_features]\n",
        "\n",
        "final_data.fillna(0, inplace=True)\n",
        "\n",
        "yes_no_mapping = {'Yes': 1, 'No': 0}\n",
        "final_data = final_data.applymap(lambda x: yes_no_mapping.get(x, x))\n",
        "\n",
        "X = final_data.drop(['Won Primary'], axis=1)\n",
        "y = final_data['Won Primary']\n",
        "\n",
        "X_train, X_test, y_train, y_test = train_test_split(X, y, test_size=0.2, random_state=42)\n",
        "\n",
        "# Baseline Model\n",
        "baseline_model = DummyClassifier(strategy=\"stratified\", random_state=42)\n",
        "baseline_model.fit(X_train, y_train)\n",
        "y_baseline_pred = baseline_model.predict(X_test)\n",
        "\n",
        "# Baseline model evaluation\n",
        "print('Baseline Model:')\n",
        "print(f'Accuracy: {accuracy_score(y_test, y_baseline_pred)}')\n",
        "print(f'Confusion Matrix:\\n{confusion_matrix(y_test, y_baseline_pred)}')\n",
        "print(f'Classification Report:\\n{classification_report(y_test, y_baseline_pred)}')\n",
        "\n",
        "# Logistic Regression Model\n",
        "log_reg_model = LogisticRegression(random_state=42)\n",
        "log_reg_model.fit(X_train, y_train)\n",
        "y_log_reg_pred = log_reg_model.predict(X_test)\n",
        "\n",
        "# LR model evaluation\n",
        "print('\\nLogistic Regression Model:')\n",
        "print(f'Accuracy: {accuracy_score(y_test, y_log_reg_pred)}')\n",
        "print(f'Confusion Matrix:\\n{confusion_matrix(y_test, y_log_reg_pred)}')\n",
        "print(f'Classification Report:\\n{classification_report(y_test, y_log_reg_pred)}')"
      ],
      "metadata": {
        "id": "tGNG2pDW3OPn",
        "colab": {
          "base_uri": "https://localhost:8080/"
        },
        "outputId": "03057eeb-a6bc-4282-9729-09643d1c3cf7"
      },
      "execution_count": null,
      "outputs": [
        {
          "output_type": "stream",
          "name": "stdout",
          "text": [
            "Drive already mounted at /content/drive; to attempt to forcibly remount, call drive.mount(\"/content/drive\", force_remount=True).\n",
            "Baseline Model:\n",
            "Accuracy: 0.5712906784335355\n",
            "Confusion Matrix:\n",
            "[[3416 1547]\n",
            " [1562  727]]\n",
            "Classification Report:\n",
            "              precision    recall  f1-score   support\n",
            "\n",
            "           0       0.69      0.69      0.69      4963\n",
            "           1       0.32      0.32      0.32      2289\n",
            "\n",
            "    accuracy                           0.57      7252\n",
            "   macro avg       0.50      0.50      0.50      7252\n",
            "weighted avg       0.57      0.57      0.57      7252\n",
            "\n",
            "\n",
            "Logistic Regression Model:\n",
            "Accuracy: 0.6770546056260341\n",
            "Confusion Matrix:\n",
            "[[4878   85]\n",
            " [2257   32]]\n",
            "Classification Report:\n",
            "              precision    recall  f1-score   support\n",
            "\n",
            "           0       0.68      0.98      0.81      4963\n",
            "           1       0.27      0.01      0.03      2289\n",
            "\n",
            "    accuracy                           0.68      7252\n",
            "   macro avg       0.48      0.50      0.42      7252\n",
            "weighted avg       0.55      0.68      0.56      7252\n",
            "\n"
          ]
        },
        {
          "output_type": "stream",
          "name": "stderr",
          "text": [
            "<ipython-input-3-e25366b722fc>:39: SettingWithCopyWarning: \n",
            "A value is trying to be set on a copy of a slice from a DataFrame\n",
            "\n",
            "See the caveats in the documentation: https://pandas.pydata.org/pandas-docs/stable/user_guide/indexing.html#returning-a-view-versus-a-copy\n",
            "  final_data.fillna(0, inplace=True)\n"
          ]
        }
      ]
    },
    {
      "cell_type": "code",
      "source": [],
      "metadata": {
        "id": "Ou_W7EMhHabG"
      },
      "execution_count": null,
      "outputs": []
    }
  ]
}